{
  "nbformat": 4,
  "nbformat_minor": 0,
  "metadata": {
    "colab": {
      "name": "Cheat sheet Numpy Python.ipynb",
      "provenance": []
    },
    "kernelspec": {
      "name": "python3",
      "display_name": "Python 3"
    },
    "language_info": {
      "name": "python"
    }
  },
  "cells": [
    {
      "cell_type": "code",
      "metadata": {
        "id": "BLDn52vdFjbv"
      },
      "source": [
        "import numpy as np"
      ],
      "execution_count": 1,
      "outputs": []
    },
    {
      "cell_type": "markdown",
      "metadata": {
        "id": "YCvT8p16FvT-"
      },
      "source": [
        "## **Creating Arrays**"
      ]
    },
    {
      "cell_type": "code",
      "metadata": {
        "id": "JFXgc3lYFeAM"
      },
      "source": [
        "a = np.array([1,2,3])\n",
        "b = np.array([(1.5,2,3), (4,5,6)], dtype = float)\n",
        "c = np.array([[(1.5,2,3), (4,5,6)], [(3,2,1), (4,5,6)]], \n",
        "dtype = float)"
      ],
      "execution_count": 2,
      "outputs": []
    },
    {
      "cell_type": "markdown",
      "metadata": {
        "id": "kOZHPX9LF2uu"
      },
      "source": [
        "## Initial Placeholders"
      ]
    },
    {
      "cell_type": "code",
      "metadata": {
        "colab": {
          "base_uri": "https://localhost:8080/"
        },
        "id": "n-s5tg7EFqb2",
        "outputId": "805480e0-52a6-42b2-865a-7178a583c875"
      },
      "source": [
        "np.zeros((3,4)) # Create an array of zeros\n",
        "np.ones((2,3,4),dtype=np.int16) #Create an array of ones\n",
        "d = np.arange(10,25,5) #Create an array of evenly spaced values (step value)\n",
        "np.linspace(0,2,9) # Create an array of evenly\n",
        "e = np.full((2,2),7) # Create a constant array\n",
        "f = np.eye(2) # Create a 2X2 identity matrix\n",
        "np.random.random((2,2)) # Create an array with random values\n",
        "np.empty((3,2)) # Create an empty array"
      ],
      "execution_count": 3,
      "outputs": [
        {
          "output_type": "execute_result",
          "data": {
            "text/plain": [
              "array([[1.39069238e-309, 1.39069238e-309],\n",
              "       [1.39069238e-309, 1.39069238e-309],\n",
              "       [1.39069238e-309, 1.39069238e-309]])"
            ]
          },
          "metadata": {},
          "execution_count": 3
        }
      ]
    },
    {
      "cell_type": "markdown",
      "metadata": {
        "id": "ANqBs04WGW00"
      },
      "source": [
        "### **I/O**"
      ]
    },
    {
      "cell_type": "code",
      "metadata": {
        "colab": {
          "base_uri": "https://localhost:8080/"
        },
        "id": "UXSDFL0ZGcLx",
        "outputId": "b0b45940-229a-43d8-ef46-8f2c6e59e948"
      },
      "source": [
        "# Saving & Loading On Disk\n",
        "np.save('my_array', a)\n",
        "np.savez('array.npz', a, b)\n",
        "np.load('my_array.npy')"
      ],
      "execution_count": 4,
      "outputs": [
        {
          "output_type": "execute_result",
          "data": {
            "text/plain": [
              "array([1, 2, 3])"
            ]
          },
          "metadata": {},
          "execution_count": 4
        }
      ]
    },
    {
      "cell_type": "code",
      "metadata": {
        "id": "Y0Jl-x9jGnSc"
      },
      "source": [
        "# Saving & Loading Text Files\n",
        "np.loadtxt(\"myfile.txt\")\n",
        "np.genfromtxt(\"my_file.csv\", delimiter=',')\n",
        "np.savetxt(\"myarray.txt\", a, delimiter=\" \")"
      ],
      "execution_count": null,
      "outputs": []
    },
    {
      "cell_type": "markdown",
      "metadata": {
        "id": "Vr4gQrYSGv2c"
      },
      "source": [
        "### **Data Types**"
      ]
    },
    {
      "cell_type": "code",
      "metadata": {
        "colab": {
          "base_uri": "https://localhost:8080/"
        },
        "id": "qERefP_oG2lc",
        "outputId": "08c9a162-1ab7-4a00-99d1-c14c17f934c9"
      },
      "source": [
        "np.int64 # Signed 64-bit integer types\n",
        "np.float32 # Standard double-precision floating point\n",
        "np.complex # Complex numbers represented by 128 floats\n",
        "np.bool # Boolean type storing TRUE and FALSE values\n",
        "np.object # Python object type\n",
        "np.string_ # Fixed-length string type\n",
        "np.unicode_ # Fixed-length unicode type"
      ],
      "execution_count": 6,
      "outputs": [
        {
          "output_type": "execute_result",
          "data": {
            "text/plain": [
              "numpy.str_"
            ]
          },
          "metadata": {},
          "execution_count": 6
        }
      ]
    },
    {
      "cell_type": "markdown",
      "metadata": {
        "id": "npvUKuGoHlyT"
      },
      "source": [
        "## **Inspecting Your Array**"
      ]
    },
    {
      "cell_type": "code",
      "metadata": {
        "colab": {
          "base_uri": "https://localhost:8080/"
        },
        "id": "DcohMuRMHujY",
        "outputId": "b43e92f0-21b9-4b3e-b702-47f75f0f180a"
      },
      "source": [
        "a.shape #  Array dimensions\n",
        "len(a) # Length of array\n",
        "b.ndim # Number of array dimensions\n",
        "e.size # Number of array elements\n",
        "b.dtype # Data type of array elements\n",
        "b.dtype.name # Name of data type\n",
        "b.astype(int) # Convert an array to a different type"
      ],
      "execution_count": 8,
      "outputs": [
        {
          "output_type": "execute_result",
          "data": {
            "text/plain": [
              "array([[1, 2, 3],\n",
              "       [4, 5, 6]])"
            ]
          },
          "metadata": {},
          "execution_count": 8
        }
      ]
    },
    {
      "cell_type": "markdown",
      "metadata": {
        "id": "byNS8a49ID9a"
      },
      "source": [
        "## **Asking For Help**"
      ]
    },
    {
      "cell_type": "code",
      "metadata": {
        "id": "WYSuE8PAIJyo"
      },
      "source": [
        "np.info(np.ndarray.dtype)"
      ],
      "execution_count": 9,
      "outputs": []
    },
    {
      "cell_type": "markdown",
      "metadata": {
        "id": "T4aBxyIPIOP6"
      },
      "source": [
        "## **Array Mathematics**\n"
      ]
    },
    {
      "cell_type": "code",
      "metadata": {
        "colab": {
          "base_uri": "https://localhost:8080/"
        },
        "id": "VDv8YugDIY29",
        "outputId": "5df3d7b2-97ef-4a15-cd92-838a63dead38"
      },
      "source": [
        "# Arithmetic Operations\n",
        "g = a - b # Subtraction\n",
        "np.subtract(a,b) # Subtraction\n",
        "b + a # Addition\n",
        "np.add(b,a) # Addition\n",
        "a / b # Division\n",
        "np.divide(a,b) # Division\n",
        "a * b # Multiplication\n",
        "np.multiply(a,b) # Multiplication\n",
        "np.exp(b) # Exponentiation\n",
        "np.sqrt(b) # Square root\n",
        "np.sin(a) # Print sines of an array\n",
        "np.cos(b) # Element-wise cosine\n",
        "np.log(a) # Element-wise natural logarithm\n",
        "e.dot(f) # Dot product"
      ],
      "execution_count": 12,
      "outputs": [
        {
          "output_type": "execute_result",
          "data": {
            "text/plain": [
              "array([[7., 7.],\n",
              "       [7., 7.]])"
            ]
          },
          "metadata": {},
          "execution_count": 12
        }
      ]
    },
    {
      "cell_type": "code",
      "metadata": {
        "colab": {
          "base_uri": "https://localhost:8080/"
        },
        "id": "Szg5oqsZJF0n",
        "outputId": "e912b10b-671f-4e3a-f9ed-2160e56f52f1"
      },
      "source": [
        "# Comparison\n",
        "\n",
        "a == b # Element-wise comparison\n",
        "a < 2 # Element-wise comparison\n",
        "np.array_equal(a, b) # Array-wise comparison"
      ],
      "execution_count": 13,
      "outputs": [
        {
          "output_type": "execute_result",
          "data": {
            "text/plain": [
              "False"
            ]
          },
          "metadata": {},
          "execution_count": 13
        }
      ]
    },
    {
      "cell_type": "code",
      "metadata": {
        "colab": {
          "base_uri": "https://localhost:8080/"
        },
        "id": "5UiGHhimJatf",
        "outputId": "e273a25f-b633-41f3-a08e-15d7c1c07bdc"
      },
      "source": [
        "# Aggregate Functions\n",
        "\n",
        "a.sum() # Array-wise sum\n",
        "a.min() # Array-wise minimum value\n",
        "b.max(axis=0) # Maximum value of an array row\n",
        "b.cumsum(axis=1) # Cumulative sum of the elements\n",
        "a.mean() # Mean\n",
        "np.median(b) # Median\n",
        "np.corrcoef(a) # Correlation coefficient\n",
        "np.std(b) # Standard deviation"
      ],
      "execution_count": 17,
      "outputs": [
        {
          "output_type": "execute_result",
          "data": {
            "text/plain": [
              "1.5920810978785667"
            ]
          },
          "metadata": {},
          "execution_count": 17
        }
      ]
    },
    {
      "cell_type": "code",
      "metadata": {
        "id": "GxYGTT_uK2bM"
      },
      "source": [
        "# Copying Arrays\n",
        "\n",
        "h = a.view() # Create a view of the array with the same data\n",
        "np.copy(a) # Create a copy of the array\n",
        "h = a.copy() # Create a deep copy of the array"
      ],
      "execution_count": 18,
      "outputs": []
    },
    {
      "cell_type": "code",
      "metadata": {
        "id": "IQbj4l9ALEL0"
      },
      "source": [
        "# Sorting Arrays\n",
        "\n",
        "a.sort() # Sort an array\n",
        "c.sort(axis=0) # Sort the elements of an array's axis"
      ],
      "execution_count": 19,
      "outputs": []
    },
    {
      "cell_type": "markdown",
      "metadata": {
        "id": "TJYCNHXALSEy"
      },
      "source": [
        "## **Subsetting, Slicing, Indexing**"
      ]
    },
    {
      "cell_type": "code",
      "metadata": {
        "colab": {
          "base_uri": "https://localhost:8080/"
        },
        "id": "We9oIuXcLMlj",
        "outputId": "173d5eac-075e-45fc-a650-dc28f7bf1f59"
      },
      "source": [
        "# Subsetting\n",
        "a[2] # Select the element at the 2nd index 3\n",
        "b[1,2] # Select the element at row 1 column 2\n",
        "6.0 # (equivalent to b[1][2])\n",
        "\n",
        "# Slicing\n",
        "\n",
        "a[0:2] # Select items at index 0 and 1\n",
        "b[0:2,1] # Select items at rows 0 and 1 in column 1\n",
        "\n",
        "\n",
        "b[:1] # Select all items at row 0\n",
        "a[ : :-1] # Reversed array a array([3, 2, 1])\n",
        "\n",
        "# Boolean Indexing\n",
        "\n",
        "a[a<2] # Select elements from a less than 2\n",
        "\n",
        "# Fancy Indexing\n",
        "b[[1, 0, 1, 0],[0, 1, 2, 0]] # Select elements (1,0),(0,1),(1,2) and (0,0)\n",
        "\n",
        "b[[1, 0, 1, 0]][:,[0,1,2,0]] # Select a subset of the matrix’s rows\n",
        " \n"
      ],
      "execution_count": 23,
      "outputs": [
        {
          "output_type": "execute_result",
          "data": {
            "text/plain": [
              "array([[4. , 5. , 6. , 4. ],\n",
              "       [1.5, 2. , 3. , 1.5],\n",
              "       [4. , 5. , 6. , 4. ],\n",
              "       [1.5, 2. , 3. , 1.5]])"
            ]
          },
          "metadata": {},
          "execution_count": 23
        }
      ]
    },
    {
      "cell_type": "markdown",
      "metadata": {
        "id": "nCefrIKZL7J_"
      },
      "source": [
        "## **Array Manipulation**"
      ]
    },
    {
      "cell_type": "code",
      "metadata": {
        "colab": {
          "base_uri": "https://localhost:8080/"
        },
        "id": "RVnNLorwMBAP",
        "outputId": "0fbd43f9-7438-4d66-91bc-6c3a639b7345"
      },
      "source": [
        "# Transposing Array\n",
        "i = np.transpose(b) # Permute array dimensions\n",
        "i.T # Permute array dimensions\n",
        " \n",
        "# Changing Array Shape\n",
        "b.ravel() # Flatten the array\n",
        "g.reshape(3,-2) # Reshape, but don’t change data\n",
        "\n",
        "# Adding/Removing Elements\n",
        "np.append(h,g) # Append items to an array\n",
        "np.insert(a, 1, 5) # Insert items in an array\n",
        "np.delete(a,[1]) # Delete items from an array\n",
        "\n",
        "# Combining Arrays\n",
        "np.concatenate((a,d),axis=0) # Concatenate arrays\n",
        "np.vstack((a,b)) # Stack arrays vertically (row-wise)\n",
        "np.r_[e,f] # Stack arrays vertically (row-wise)\n",
        "np.hstack((e,f)) # Stack arrays horizontally (column-wise)\n",
        "np.column_stack((a,d)) # Create stacked column-wise arrays\n",
        "np.c_[a,d] # Create stacked column-wise arrays\n",
        " \n",
        "# Splitting Arrays\n",
        "np.hsplit(a,3) # Split the array horizontally at the 3rd\n",
        "np.vsplit(c,2) # Split the array vertically at the 2nd index"
      ],
      "execution_count": 26,
      "outputs": [
        {
          "output_type": "execute_result",
          "data": {
            "text/plain": [
              "[array([[[1.5, 2. , 1. ],\n",
              "         [4. , 5. , 6. ]]]), array([[[3., 2., 3.],\n",
              "         [4., 5., 6.]]])]"
            ]
          },
          "metadata": {},
          "execution_count": 26
        }
      ]
    }
  ]
}